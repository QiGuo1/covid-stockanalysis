{
 "cells": [
  {
   "cell_type": "code",
   "execution_count": 1,
   "metadata": {},
   "outputs": [
    {
     "name": "stderr",
     "output_type": "stream",
     "text": [
      "Warning message:\n",
      "\"package 'ggplot2' was built under R version 3.6.3\"Warning message:\n",
      "\"package 'dplyr' was built under R version 3.6.3\"\n",
      "Attaching package: 'dplyr'\n",
      "\n",
      "The following objects are masked from 'package:stats':\n",
      "\n",
      "    filter, lag\n",
      "\n",
      "The following objects are masked from 'package:base':\n",
      "\n",
      "    intersect, setdiff, setequal, union\n",
      "\n"
     ]
    }
   ],
   "source": [
    "#loading required R libraries \n",
    "library(ggplot2)\n",
    "library(dplyr)\n",
    "options(warn=-1)"
   ]
  },
  {
   "cell_type": "code",
   "execution_count": 2,
   "metadata": {},
   "outputs": [
    {
     "data": {
      "text/html": [
       "<table>\n",
       "<thead><tr><th scope=col>Date</th><th scope=col>Confirmed</th><th scope=col>Deaths</th><th scope=col>Recovered</th></tr></thead>\n",
       "<tbody>\n",
       "\t<tr><td>2020-01-22</td><td> 555      </td><td>17        </td><td>28        </td></tr>\n",
       "\t<tr><td>2020-01-23</td><td> 653      </td><td>18        </td><td>30        </td></tr>\n",
       "\t<tr><td>2020-01-24</td><td> 941      </td><td>26        </td><td>36        </td></tr>\n",
       "\t<tr><td>2020-01-25</td><td>1438      </td><td>42        </td><td>39        </td></tr>\n",
       "\t<tr><td>2020-01-26</td><td>2118      </td><td>56        </td><td>52        </td></tr>\n",
       "\t<tr><td>2020-01-27</td><td>2927      </td><td>82        </td><td>61        </td></tr>\n",
       "</tbody>\n",
       "</table>\n"
      ],
      "text/latex": [
       "\\begin{tabular}{r|llll}\n",
       " Date & Confirmed & Deaths & Recovered\\\\\n",
       "\\hline\n",
       "\t 2020-01-22 &  555       & 17         & 28        \\\\\n",
       "\t 2020-01-23 &  653       & 18         & 30        \\\\\n",
       "\t 2020-01-24 &  941       & 26         & 36        \\\\\n",
       "\t 2020-01-25 & 1438       & 42         & 39        \\\\\n",
       "\t 2020-01-26 & 2118       & 56         & 52        \\\\\n",
       "\t 2020-01-27 & 2927       & 82         & 61        \\\\\n",
       "\\end{tabular}\n"
      ],
      "text/markdown": [
       "\n",
       "| Date | Confirmed | Deaths | Recovered |\n",
       "|---|---|---|---|\n",
       "| 2020-01-22 |  555       | 17         | 28         |\n",
       "| 2020-01-23 |  653       | 18         | 30         |\n",
       "| 2020-01-24 |  941       | 26         | 36         |\n",
       "| 2020-01-25 | 1438       | 42         | 39         |\n",
       "| 2020-01-26 | 2118       | 56         | 52         |\n",
       "| 2020-01-27 | 2927       | 82         | 61         |\n",
       "\n"
      ],
      "text/plain": [
       "  Date       Confirmed Deaths Recovered\n",
       "1 2020-01-22  555      17     28       \n",
       "2 2020-01-23  653      18     30       \n",
       "3 2020-01-24  941      26     36       \n",
       "4 2020-01-25 1438      42     39       \n",
       "5 2020-01-26 2118      56     52       \n",
       "6 2020-01-27 2927      82     61       "
      ]
     },
     "metadata": {},
     "output_type": "display_data"
    }
   ],
   "source": [
    "#Load Covid Data\n",
    "dfcovid <- read.csv(file = 'data/Covid19_6July/covid_19_data.csv', header = TRUE)\n",
    "dfcovid <- subset(dfcovid, select =c(Date,Confirmed,Deaths,Recovered))\n",
    "dfcovid <- dfcovid %>% group_by(Date) %>% summarise_all(sum)\n",
    "\n",
    "head(dfcovid)\n"
   ]
  },
  {
   "cell_type": "code",
   "execution_count": 3,
   "metadata": {},
   "outputs": [
    {
     "data": {
      "text/html": [
       "<table>\n",
       "<thead><tr><th scope=col>Date</th><th scope=col>US</th><th scope=col>China</th><th scope=col>Japan</th><th scope=col>Russia</th></tr></thead>\n",
       "<tbody>\n",
       "\t<tr><td>2020-01-22</td><td>2562.57   </td><td>3060.755  </td><td>24031.35  </td><td>3174.62   </td></tr>\n",
       "\t<tr><td>2020-01-23</td><td>2558.51   </td><td>2976.528  </td><td>23795.44  </td><td>3141.20   </td></tr>\n",
       "\t<tr><td>2020-02-03</td><td>2411.72   </td><td>2746.606  </td><td>22971.94  </td><td>3070.84   </td></tr>\n",
       "\t<tr><td>2020-02-04</td><td>2420.82   </td><td>2783.288  </td><td>23084.59  </td><td>3097.60   </td></tr>\n",
       "\t<tr><td>2020-02-05</td><td>2454.22   </td><td>2818.088  </td><td>23319.56  </td><td>3114.25   </td></tr>\n",
       "\t<tr><td>2020-02-06</td><td>2433.50   </td><td>2866.510  </td><td>23873.59  </td><td>3096.68   </td></tr>\n",
       "</tbody>\n",
       "</table>\n"
      ],
      "text/latex": [
       "\\begin{tabular}{r|lllll}\n",
       " Date & US & China & Japan & Russia\\\\\n",
       "\\hline\n",
       "\t 2020-01-22 & 2562.57    & 3060.755   & 24031.35   & 3174.62   \\\\\n",
       "\t 2020-01-23 & 2558.51    & 2976.528   & 23795.44   & 3141.20   \\\\\n",
       "\t 2020-02-03 & 2411.72    & 2746.606   & 22971.94   & 3070.84   \\\\\n",
       "\t 2020-02-04 & 2420.82    & 2783.288   & 23084.59   & 3097.60   \\\\\n",
       "\t 2020-02-05 & 2454.22    & 2818.088   & 23319.56   & 3114.25   \\\\\n",
       "\t 2020-02-06 & 2433.50    & 2866.510   & 23873.59   & 3096.68   \\\\\n",
       "\\end{tabular}\n"
      ],
      "text/markdown": [
       "\n",
       "| Date | US | China | Japan | Russia |\n",
       "|---|---|---|---|---|\n",
       "| 2020-01-22 | 2562.57    | 3060.755   | 24031.35   | 3174.62    |\n",
       "| 2020-01-23 | 2558.51    | 2976.528   | 23795.44   | 3141.20    |\n",
       "| 2020-02-03 | 2411.72    | 2746.606   | 22971.94   | 3070.84    |\n",
       "| 2020-02-04 | 2420.82    | 2783.288   | 23084.59   | 3097.60    |\n",
       "| 2020-02-05 | 2454.22    | 2818.088   | 23319.56   | 3114.25    |\n",
       "| 2020-02-06 | 2433.50    | 2866.510   | 23873.59   | 3096.68    |\n",
       "\n"
      ],
      "text/plain": [
       "  Date       US      China    Japan    Russia \n",
       "1 2020-01-22 2562.57 3060.755 24031.35 3174.62\n",
       "2 2020-01-23 2558.51 2976.528 23795.44 3141.20\n",
       "3 2020-02-03 2411.72 2746.606 22971.94 3070.84\n",
       "4 2020-02-04 2420.82 2783.288 23084.59 3097.60\n",
       "5 2020-02-05 2454.22 2818.088 23319.56 3114.25\n",
       "6 2020-02-06 2433.50 2866.510 23873.59 3096.68"
      ]
     },
     "metadata": {},
     "output_type": "display_data"
    }
   ],
   "source": [
    "#Read Stock Indices of Various Contries\n",
    "dfChina<-read.csv(file = 'data/StockIndices/000001.SS.csv', header = TRUE)\n",
    "dfUS<-read.csv(file = 'data/StockIndices/XAX.csv', header = TRUE)\n",
    "dfRussia<-read.csv(file = 'data/StockIndices/IMOEX.ME.csv', header = TRUE)\n",
    "dfJapan<-read.csv(file = 'data/StockIndices/N225.csv', header = TRUE)\n",
    "\n",
    "#Select the Date and Stock Index value\n",
    "dfUS <- subset(dfUS, select =c(Date,Adj.Close))\n",
    "colnames(dfUS)[2]<-\"US\"\n",
    "dfChina <- subset(dfChina, select =c(Date,Adj.Close))\n",
    "colnames(dfChina)[2]<-\"China\"\n",
    "dfRussia <- subset(dfRussia, select =c(Date,Adj.Close))\n",
    "colnames(dfRussia)[2]<-\"Russia\"\n",
    "dfJapan <- subset(dfJapan, select =c(Date,Adj.Close))\n",
    "colnames(dfJapan)[2]<-\"Japan\"\n",
    "\n",
    "merge1<-merge(dfUS,dfChina, by = c(\"Date\"))\n",
    "merge2<-merge(dfJapan,dfRussia, by = c(\"Date\"))\n",
    "dfstock<-merge(merge1,merge2, by = c(\"Date\"))\n",
    "#Display Stock Indices\n",
    "head(dfstock)"
   ]
  },
  {
   "cell_type": "code",
   "execution_count": 4,
   "metadata": {},
   "outputs": [
    {
     "data": {
      "text/html": [
       "<table>\n",
       "<thead><tr><th scope=col>Date</th><th scope=col>US</th><th scope=col>China</th><th scope=col>Japan</th><th scope=col>Russia</th><th scope=col>Confirmed</th><th scope=col>Deaths</th><th scope=col>Recovered</th></tr></thead>\n",
       "<tbody>\n",
       "\t<tr><td>2020-01-22</td><td>2562.57   </td><td>3060.755  </td><td>24031.35  </td><td>3174.62   </td><td>  555     </td><td> 17       </td><td>  28      </td></tr>\n",
       "\t<tr><td>2020-01-23</td><td>2558.51   </td><td>2976.528  </td><td>23795.44  </td><td>3141.20   </td><td>  653     </td><td> 18       </td><td>  30      </td></tr>\n",
       "\t<tr><td>2020-02-03</td><td>2411.72   </td><td>2746.606  </td><td>22971.94  </td><td>3070.84   </td><td>19881     </td><td>426       </td><td> 623      </td></tr>\n",
       "\t<tr><td>2020-02-04</td><td>2420.82   </td><td>2783.288  </td><td>23084.59  </td><td>3097.60   </td><td>23892     </td><td>492       </td><td> 852      </td></tr>\n",
       "\t<tr><td>2020-02-05</td><td>2454.22   </td><td>2818.088  </td><td>23319.56  </td><td>3114.25   </td><td>27636     </td><td>564       </td><td>1124      </td></tr>\n",
       "\t<tr><td>2020-02-06</td><td>2433.50   </td><td>2866.510  </td><td>23873.59  </td><td>3096.68   </td><td>30818     </td><td>634       </td><td>1487      </td></tr>\n",
       "</tbody>\n",
       "</table>\n"
      ],
      "text/latex": [
       "\\begin{tabular}{r|llllllll}\n",
       " Date & US & China & Japan & Russia & Confirmed & Deaths & Recovered\\\\\n",
       "\\hline\n",
       "\t 2020-01-22 & 2562.57    & 3060.755   & 24031.35   & 3174.62    &   555      &  17        &   28      \\\\\n",
       "\t 2020-01-23 & 2558.51    & 2976.528   & 23795.44   & 3141.20    &   653      &  18        &   30      \\\\\n",
       "\t 2020-02-03 & 2411.72    & 2746.606   & 22971.94   & 3070.84    & 19881      & 426        &  623      \\\\\n",
       "\t 2020-02-04 & 2420.82    & 2783.288   & 23084.59   & 3097.60    & 23892      & 492        &  852      \\\\\n",
       "\t 2020-02-05 & 2454.22    & 2818.088   & 23319.56   & 3114.25    & 27636      & 564        & 1124      \\\\\n",
       "\t 2020-02-06 & 2433.50    & 2866.510   & 23873.59   & 3096.68    & 30818      & 634        & 1487      \\\\\n",
       "\\end{tabular}\n"
      ],
      "text/markdown": [
       "\n",
       "| Date | US | China | Japan | Russia | Confirmed | Deaths | Recovered |\n",
       "|---|---|---|---|---|---|---|---|\n",
       "| 2020-01-22 | 2562.57    | 3060.755   | 24031.35   | 3174.62    |   555      |  17        |   28       |\n",
       "| 2020-01-23 | 2558.51    | 2976.528   | 23795.44   | 3141.20    |   653      |  18        |   30       |\n",
       "| 2020-02-03 | 2411.72    | 2746.606   | 22971.94   | 3070.84    | 19881      | 426        |  623       |\n",
       "| 2020-02-04 | 2420.82    | 2783.288   | 23084.59   | 3097.60    | 23892      | 492        |  852       |\n",
       "| 2020-02-05 | 2454.22    | 2818.088   | 23319.56   | 3114.25    | 27636      | 564        | 1124       |\n",
       "| 2020-02-06 | 2433.50    | 2866.510   | 23873.59   | 3096.68    | 30818      | 634        | 1487       |\n",
       "\n"
      ],
      "text/plain": [
       "  Date       US      China    Japan    Russia  Confirmed Deaths Recovered\n",
       "1 2020-01-22 2562.57 3060.755 24031.35 3174.62   555      17      28     \n",
       "2 2020-01-23 2558.51 2976.528 23795.44 3141.20   653      18      30     \n",
       "3 2020-02-03 2411.72 2746.606 22971.94 3070.84 19881     426     623     \n",
       "4 2020-02-04 2420.82 2783.288 23084.59 3097.60 23892     492     852     \n",
       "5 2020-02-05 2454.22 2818.088 23319.56 3114.25 27636     564    1124     \n",
       "6 2020-02-06 2433.50 2866.510 23873.59 3096.68 30818     634    1487     "
      ]
     },
     "metadata": {},
     "output_type": "display_data"
    }
   ],
   "source": [
    "#Stock Indices dataset with Covid Dataset\n",
    "dfmerge<-merge(dfstock,dfcovid, by = c(\"Date\"))\n",
    "head(dfmerge)"
   ]
  },
  {
   "cell_type": "code",
   "execution_count": 5,
   "metadata": {},
   "outputs": [
    {
     "data": {
      "image/png": "[encoded data removed]",
      "text/plain": [
       "plot without title"
      ]
     },
     "metadata": {},
     "output_type": "display_data"
    }
   ],
   "source": [
    "#Scatter Plot between Stock Indices & Covid Dataset\n",
    "pairs(dfmerge[2:8], pch = 21)"
   ]
  },
  {
   "cell_type": "code",
   "execution_count": 6,
   "metadata": {},
   "outputs": [
    {
     "data": {
      "text/html": [
       "<table>\n",
       "<thead><tr><th></th><th scope=col>US</th><th scope=col>China</th><th scope=col>Japan</th><th scope=col>Russia</th><th scope=col>Confirmed</th><th scope=col>Deaths</th><th scope=col>Recovered</th></tr></thead>\n",
       "<tbody>\n",
       "\t<tr><th scope=row>US</th><td> 1.00</td><td> 0.70</td><td>0.94 </td><td> 0.95</td><td>-0.15</td><td>-0.15</td><td>-0.08</td></tr>\n",
       "\t<tr><th scope=row>China</th><td> 0.70</td><td> 1.00</td><td>0.63 </td><td> 0.59</td><td>-0.06</td><td>-0.06</td><td> 0.00</td></tr>\n",
       "\t<tr><th scope=row>Japan</th><td> 0.94</td><td> 0.63</td><td>1.00 </td><td> 0.95</td><td> 0.03</td><td> 0.02</td><td> 0.10</td></tr>\n",
       "\t<tr><th scope=row>Russia</th><td> 0.95</td><td> 0.59</td><td>0.95 </td><td> 1.00</td><td>-0.10</td><td>-0.10</td><td>-0.04</td></tr>\n",
       "\t<tr><th scope=row>Confirmed</th><td>-0.15</td><td>-0.06</td><td>0.03 </td><td>-0.10</td><td> 1.00</td><td> 1.00</td><td> 0.99</td></tr>\n",
       "\t<tr><th scope=row>Deaths</th><td>-0.15</td><td>-0.06</td><td>0.02 </td><td>-0.10</td><td> 1.00</td><td> 1.00</td><td> 0.97</td></tr>\n",
       "\t<tr><th scope=row>Recovered</th><td>-0.08</td><td> 0.00</td><td>0.10 </td><td>-0.04</td><td> 0.99</td><td> 0.97</td><td> 1.00</td></tr>\n",
       "</tbody>\n",
       "</table>\n"
      ],
      "text/latex": [
       "\\begin{tabular}{r|lllllll}\n",
       "  & US & China & Japan & Russia & Confirmed & Deaths & Recovered\\\\\n",
       "\\hline\n",
       "\tUS &  1.00 &  0.70 & 0.94  &  0.95 & -0.15 & -0.15 & -0.08\\\\\n",
       "\tChina &  0.70 &  1.00 & 0.63  &  0.59 & -0.06 & -0.06 &  0.00\\\\\n",
       "\tJapan &  0.94 &  0.63 & 1.00  &  0.95 &  0.03 &  0.02 &  0.10\\\\\n",
       "\tRussia &  0.95 &  0.59 & 0.95  &  1.00 & -0.10 & -0.10 & -0.04\\\\\n",
       "\tConfirmed & -0.15 & -0.06 & 0.03  & -0.10 &  1.00 &  1.00 &  0.99\\\\\n",
       "\tDeaths & -0.15 & -0.06 & 0.02  & -0.10 &  1.00 &  1.00 &  0.97\\\\\n",
       "\tRecovered & -0.08 &  0.00 & 0.10  & -0.04 &  0.99 &  0.97 &  1.00\\\\\n",
       "\\end{tabular}\n"
      ],
      "text/markdown": [
       "\n",
       "| <!--/--> | US | China | Japan | Russia | Confirmed | Deaths | Recovered |\n",
       "|---|---|---|---|---|---|---|---|\n",
       "| US |  1.00 |  0.70 | 0.94  |  0.95 | -0.15 | -0.15 | -0.08 |\n",
       "| China |  0.70 |  1.00 | 0.63  |  0.59 | -0.06 | -0.06 |  0.00 |\n",
       "| Japan |  0.94 |  0.63 | 1.00  |  0.95 |  0.03 |  0.02 |  0.10 |\n",
       "| Russia |  0.95 |  0.59 | 0.95  |  1.00 | -0.10 | -0.10 | -0.04 |\n",
       "| Confirmed | -0.15 | -0.06 | 0.03  | -0.10 |  1.00 |  1.00 |  0.99 |\n",
       "| Deaths | -0.15 | -0.06 | 0.02  | -0.10 |  1.00 |  1.00 |  0.97 |\n",
       "| Recovered | -0.08 |  0.00 | 0.10  | -0.04 |  0.99 |  0.97 |  1.00 |\n",
       "\n"
      ],
      "text/plain": [
       "          US    China Japan Russia Confirmed Deaths Recovered\n",
       "US         1.00  0.70 0.94   0.95  -0.15     -0.15  -0.08    \n",
       "China      0.70  1.00 0.63   0.59  -0.06     -0.06   0.00    \n",
       "Japan      0.94  0.63 1.00   0.95   0.03      0.02   0.10    \n",
       "Russia     0.95  0.59 0.95   1.00  -0.10     -0.10  -0.04    \n",
       "Confirmed -0.15 -0.06 0.03  -0.10   1.00      1.00   0.99    \n",
       "Deaths    -0.15 -0.06 0.02  -0.10   1.00      1.00   0.97    \n",
       "Recovered -0.08  0.00 0.10  -0.04   0.99      0.97   1.00    "
      ]
     },
     "metadata": {},
     "output_type": "display_data"
    }
   ],
   "source": [
    "#Correlation Between Stock Indices & Covid Cases\n",
    "dfcor <- subset(dfmerge, select =-c(Date))\n",
    "round(cor(dfcor),2)"
   ]
  }
 ],
 "metadata": {
  "kernelspec": {
   "display_name": "R",
   "language": "R",
   "name": "ir"
  },
  "language_info": {
   "codemirror_mode": "r",
   "file_extension": ".r",
   "mimetype": "text/x-r-source",
   "name": "R",
   "pygments_lexer": "r",
   "version": "3.6.1"
  }
 },
 "nbformat": 4,
 "nbformat_minor": 4
}
